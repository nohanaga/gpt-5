{
 "cells": [
  {
   "cell_type": "markdown",
   "id": "54eb22b2",
   "metadata": {},
   "source": [
    "# GPT-5 新機能テスト\n",
    "\n",
    "以下の機能をテストします。\n",
    "- https://cookbook.openai.com/examples/gpt-5/gpt-5_new_params_and_tools\n",
    "- https://cookbook.openai.com/examples/gpt-5/gpt-5_prompting_guide"
   ]
  },
  {
   "cell_type": "code",
   "execution_count": null,
   "id": "680ccee4",
   "metadata": {},
   "outputs": [],
   "source": [
    "!pip install openai --upgrade"
   ]
  },
  {
   "cell_type": "code",
   "execution_count": null,
   "id": "a584e1b5",
   "metadata": {},
   "outputs": [],
   "source": [
    "from openai import OpenAI,AzureOpenAI\n",
    "import os\n",
    "from dotenv import load_dotenv\n",
    "\n",
    "load_dotenv()\n",
    "\n",
    "# Last generation API\n",
    "# client = AzureOpenAI(\n",
    "#   azure_endpoint = os.getenv(\"AZURE_OPENAI_ENDPOINT\"), \n",
    "#   api_key=os.getenv(\"AZURE_OPENAI_API_KEY\"),  \n",
    "#   api_version=\"2025-04-01-preview\"\n",
    "# )\n",
    "\n",
    "# Next generation API \n",
    "client = OpenAI(\n",
    "    api_key=os.getenv(\"AZURE_OPENAI_API_KEY\"),\n",
    "    base_url=f\"{os.getenv('AZURE_OPENAI_ENDPOINT')}/openai/v1/\",\n",
    "    default_query={\"api-version\": \"preview\"}, \n",
    ")\n"
   ]
  },
  {
   "cell_type": "markdown",
   "id": "589ec75d",
   "metadata": {},
   "source": [
    "## 1. Verbosity Parameter（冗長性パラメーター）\n",
    "モデルに返答の拡張度を高くしたり低くしたりするようヒントを与えます。コーディングタスクの場合、詳細度パラメータは、生成されるコードの長さと複雑さ、そして付随する説明の深さにも影響します。\n",
    "\n",
    "低→ 簡潔な UX、最小限の文章。\n",
    "中 (デフォルト) → バランスの取れた詳細。\n",
    "高→ 詳細、監査、教育、または引き継ぎに最適。\n"
   ]
  },
  {
   "cell_type": "markdown",
   "id": "9e2c0bca",
   "metadata": {},
   "source": [
    "## 素数判定（verbosity:low）"
   ]
  },
  {
   "cell_type": "code",
   "execution_count": null,
   "id": "9c858ef9",
   "metadata": {},
   "outputs": [],
   "source": [
    "response = client.responses.create(\n",
    "    model=\"gpt-5-mini\",\n",
    "    input=\"素数を判定するPythonプログラムを出力してください。\",\n",
    "    text={\"verbosity\": \"low\"},\n",
    ")\n",
    "\n",
    "print(response.model_dump_json(indent=2))\n"
   ]
  },
  {
   "cell_type": "code",
   "execution_count": null,
   "id": "29e3a602",
   "metadata": {},
   "outputs": [],
   "source": [
    "output_text = \"\"\n",
    "for item in response.output:\n",
    "    if hasattr(item, \"content\") and item.content:\n",
    "        for content in item.content:\n",
    "            if hasattr(content, \"text\") and content.text:\n",
    "                output_text += content.text\n",
    "\n",
    "\n",
    "print(output_text)        "
   ]
  },
  {
   "cell_type": "code",
   "execution_count": null,
   "id": "5b2673b1",
   "metadata": {},
   "outputs": [],
   "source": [
    "response.usage"
   ]
  },
  {
   "cell_type": "markdown",
   "id": "7bb3e3f9",
   "metadata": {},
   "source": [
    "## 素数判定（verbosity:medium）"
   ]
  },
  {
   "cell_type": "code",
   "execution_count": null,
   "id": "47065f64",
   "metadata": {},
   "outputs": [],
   "source": [
    "response = client.responses.create(\n",
    "    model=\"gpt-5-mini\", \n",
    "    input=\"素数を判定するPythonプログラムを出力してください。\",\n",
    "    text={\"verbosity\": \"medium\"},\n",
    ")\n",
    "\n",
    "print(response.model_dump_json(indent=2))\n"
   ]
  },
  {
   "cell_type": "code",
   "execution_count": null,
   "metadata": {},
   "outputs": [],
   "source": [
    "output_text = \"\"\n",
    "for item in response.output:\n",
    "    if hasattr(item, \"content\") and item.content:\n",
    "        for content in item.content:\n",
    "            if hasattr(content, \"text\") and content.text:\n",
    "                output_text += content.text\n",
    "\n",
    "print(output_text)"
   ]
  },
  {
   "cell_type": "markdown",
   "id": "ee09f0ae",
   "metadata": {},
   "source": [
    "## 素数判定（verbosity:high）"
   ]
  },
  {
   "cell_type": "code",
   "execution_count": null,
   "id": "4efa4b1e",
   "metadata": {},
   "outputs": [],
   "source": [
    "response = client.responses.create(\n",
    "    model=\"gpt-5-mini\",\n",
    "    input=\"素数を判定するPythonプログラムを出力してください。\",\n",
    "    text={\"verbosity\": \"high\"},\n",
    ")\n",
    "\n",
    "print(response.model_dump_json(indent=2))\n"
   ]
  },
  {
   "cell_type": "code",
   "execution_count": null,
   "id": "cce8f730",
   "metadata": {},
   "outputs": [],
   "source": [
    "output_text = \"\"\n",
    "for item in response.output:\n",
    "    if hasattr(item, \"content\") and item.content:\n",
    "        for content in item.content:\n",
    "            if hasattr(content, \"text\") and content.text:\n",
    "                output_text += content.text\n",
    "\n",
    "print(output_text)"
   ]
  },
  {
   "cell_type": "markdown",
   "id": "e53d5d9c",
   "metadata": {},
   "source": [
    "## 2. Free-Form Function Calling（自由形式の関数呼び出し）\n",
    "Python スクリプトから SQL クエリまで、あらゆる生のテキストペイロードを JSON ラップなしで直接カスタムツールに連携します。\n"
   ]
  },
  {
   "cell_type": "code",
   "execution_count": null,
   "id": "8b76f7ce",
   "metadata": {},
   "outputs": [],
   "source": [
    "response = client.responses.create(\n",
    "    model=\"gpt-5-mini\",\n",
    "    input=\"code_exec ツールを使用して、strawberry の 'r' の文字数に等しい半径を持つ円の面積を計算してください。\",\n",
    "    text={\"format\": {\"type\": \"text\"}},\n",
    "    tools=[\n",
    "        {\n",
    "            \"type\": \"custom\",\n",
    "            \"name\": \"code_exec\",\n",
    "            \"description\": \"Executes arbitrary python code\",\n",
    "        }\n",
    "    ]\n",
    ")\n",
    "print(response.output)\n"
   ]
  },
  {
   "cell_type": "code",
   "execution_count": null,
   "id": "e2c1296f",
   "metadata": {},
   "outputs": [],
   "source": [
    "# response.outputからinputの中身を取得\n",
    "for item in response.output:\n",
    "    if hasattr(item, 'type') and item.type == 'custom_tool_call':\n",
    "        print(\"=== Generated Code ===\")\n",
    "        print(item.input)\n",
    "        print(\"======================\")\n"
   ]
  },
  {
   "cell_type": "markdown",
   "id": "cec0b83b",
   "metadata": {},
   "source": [
    "## 3. Allowed tools\n",
    "`allowed_tools` パラメーターは、GPT-5 Responses API の `tool_choice` 内で、N 個のツール定義を指定しつつ、モデルが使用できるツールを M（N 未満）に制限します。ツールの完全なリストを `tools` に列挙し、`allowed_tools` ブロックを使用してサブセットを指定し、モードを指定します。モードは `auto` または `required` のいずれかが指定可能。\n",
    "\n",
    "https://platform.openai.com/docs/guides/latest-model#allowed-tools\n",
    "\n"
   ]
  },
  {
   "cell_type": "code",
   "execution_count": null,
   "id": "05790119",
   "metadata": {},
   "outputs": [],
   "source": [
    "# 1. Define a list of callable tools for the model\n",
    "tools = [\n",
    "    {\n",
    "        \"type\": \"function\",\n",
    "        \"name\": \"get_current_weather\",\n",
    "        \"description\": \"指定された都市の現在の天気を取得します。\",\n",
    "        \"parameters\": {\n",
    "            \"type\": \"object\",\n",
    "            \"properties\": {\n",
    "                \"location\": {\n",
    "                    \"type\": \"string\",\n",
    "                    \"description\": \"都市名（例：Tokyo）\",\n",
    "                },\n",
    "                \"unit\": {\n",
    "                    \"type\": \"string\",\n",
    "                    \"enum\": [\"celsius\", \"fahrenheit\"],\n",
    "                },\n",
    "            },\n",
    "            \"required\": [\"location\"],\n",
    "        },\n",
    "    },\n",
    "    {\n",
    "        \"type\": \"function\",\n",
    "        \"name\": \"search_products\",\n",
    "        \"description\": \"指定されたキーワードに基づいて商品を検索します。\",\n",
    "        \"parameters\": {\n",
    "            \"type\": \"object\",\n",
    "            \"properties\": {\n",
    "                \"query\": {\n",
    "                    \"type\": \"string\",\n",
    "                    \"description\": \"検索したい商品名やキーワード（例：ノートパソコン、トースター）\",\n",
    "                },\n",
    "            },\n",
    "            \"required\": [\"query\"],\n",
    "        },\n",
    "    }\n",
    "]\n",
    "\n",
    "prompt = \"\"\"\n",
    "あなたは便利なアシスタントです。質問に答えるために、必要に応じてツールを使用します。\n",
    "\"\"\"\n",
    "\n",
    "\n",
    "messages = [\n",
    "    {\"role\": \"developer\", \"content\": prompt },\n",
    "    {\"role\": \"user\", \"content\": \"草津温泉の現在の天気は？\"},\n",
    "]\n",
    "\n",
    "response = client.responses.create(\n",
    "    model=\"gpt-5-mini\",\n",
    "    input=messages,\n",
    "    tools=tools,\n",
    "    # tool_choice=\"auto\",\n",
    "    tool_choice={\n",
    "        \"type\": \"allowed_tools\",\n",
    "        \"mode\": \"auto\",\n",
    "        \"tools\": [\n",
    "            {\"type\": \"function\", \"name\": \"get_current_weather\"},\n",
    "            {\"type\": \"function\", \"name\": \"search_products\"}\n",
    "        ]\n",
    "    }\n",
    ")"
   ]
  },
  {
   "cell_type": "code",
   "execution_count": null,
   "id": "719f8207",
   "metadata": {},
   "outputs": [],
   "source": [
    "print(\"Final output:\")\n",
    "print(response.model_dump_json(indent=2))"
   ]
  },
  {
   "cell_type": "code",
   "execution_count": null,
   "id": "d19ec79d",
   "metadata": {},
   "outputs": [],
   "source": [
    "response.output[1]"
   ]
  },
  {
   "cell_type": "markdown",
   "id": "79d17964",
   "metadata": {},
   "source": [
    "## 4. Context-Free Grammar (CFG)\n",
    "\n",
    "CFG は、文法規則を用いて文字列を生成するための形式的なルールセットであり、これらの規則は「生成規則」として定義され、非終端記号と終端記号から構成されます。CFG はパーサーによって入力文字列が文法に従っているかどうかを判断するために使われます。これは、プログラミング言語の構文や OpenAI ツール用のカスタムフォーマットに出力を制約する際に役立ちます。\n",
    "\n",
    "この仕組みを利用することで、モデルが文法に従った有効な文字列のみを出力することを保証できます。モデルのサンプリングを制限するために、内部で LLGuidance を使用しているとの記述がありました。\n",
    "\n",
    "#### サポートされている文法構文\n",
    "- Lark - https://lark-parser.readthedocs.io/en/stable/\n",
    "- 正規表現 - https://docs.rs/regex/latest/regex/#syntax\n",
    "\n",
    "### 1. Lark 文法 CFG 構文\n",
    "OpenAI の例に従って、SQLの 特定の構文パターン を解析・生成するためのルールセットを Lark 文法で定義します。\"SELECT ... FROM ... WHERE ... ORDER BY ...\" のような典型的なクエリパターンのみをサポートしたい場合は以下のように記述します。\n"
   ]
  },
  {
   "cell_type": "code",
   "execution_count": null,
   "id": "203ade6b",
   "metadata": {},
   "outputs": [],
   "source": [
    "import textwrap\n",
    "\n",
    "# ----------------- grammars for MS SQL dialect -----------------\n",
    "mssql_grammar = textwrap.dedent(r\"\"\"\n",
    "            // ---------- Punctuation & operators ----------\n",
    "            SP: \" \"\n",
    "            COMMA: \",\"\n",
    "            GT: \">\"\n",
    "            EQ: \"=\"\n",
    "            SEMI: \";\"\n",
    "\n",
    "            // ---------- Start ----------\n",
    "            start: \"SELECT\" SP \"TOP\" SP NUMBER SP select_list SP \"FROM\" SP table SP \"WHERE\" SP amount_filter SP \"AND\" SP date_filter SP \"ORDER\" SP \"BY\" SP sort_cols SEMI\n",
    "\n",
    "            // ---------- Projections ----------\n",
    "            select_list: column (COMMA SP column)*\n",
    "            column: IDENTIFIER\n",
    "\n",
    "            // ---------- Tables ----------\n",
    "            table: IDENTIFIER\n",
    "\n",
    "            // ---------- Filters ----------\n",
    "            amount_filter: \"total_amount\" SP GT SP NUMBER\n",
    "            date_filter: \"order_date\" SP GT SP DATE\n",
    "\n",
    "            // ---------- Sorting ----------\n",
    "            sort_cols: \"order_date\" SP \"DESC\"\n",
    "\n",
    "            // ---------- Terminals ----------\n",
    "            IDENTIFIER: /[A-Za-z_][A-Za-z0-9_]*/\n",
    "            NUMBER: /[0-9]+/\n",
    "            DATE: /'[0-9]{4}-[0-9]{2}-[0-9]{2}'/\n",
    "    \"\"\")\n",
    "\n",
    "# ----------------- grammars for PostgreSQL dialect -----------------\n",
    "postgres_grammar = textwrap.dedent(r\"\"\"\n",
    "            // ---------- Punctuation & operators ----------\n",
    "            SP: \" \"\n",
    "            COMMA: \",\"\n",
    "            GT: \">\"\n",
    "            EQ: \"=\"\n",
    "            SEMI: \";\"\n",
    "\n",
    "            // ---------- Start ----------\n",
    "            start: \"SELECT\" SP select_list SP \"FROM\" SP table SP \"WHERE\" SP amount_filter SP \"AND\" SP date_filter SP \"ORDER\" SP \"BY\" SP sort_cols SP \"LIMIT\" SP NUMBER SEMI\n",
    "\n",
    "            // ---------- Projections ----------\n",
    "            select_list: column (COMMA SP column)*\n",
    "            column: IDENTIFIER\n",
    "\n",
    "            // ---------- Tables ----------\n",
    "            table: IDENTIFIER\n",
    "\n",
    "            // ---------- Filters ----------\n",
    "            amount_filter: \"total_amount\" SP GT SP NUMBER\n",
    "            date_filter: \"order_date\" SP GT SP DATE\n",
    "\n",
    "            // ---------- Sorting ----------\n",
    "            sort_cols: \"order_date\" SP \"DESC\"\n",
    "\n",
    "            // ---------- Terminals ----------\n",
    "            IDENTIFIER: /[A-Za-z_][A-Za-z0-9_]*/\n",
    "            NUMBER: /[0-9]+/\n",
    "            DATE: /'[0-9]{4}-[0-9]{2}-[0-9]{2}'/\n",
    "    \"\"\")\n"
   ]
  },
  {
   "cell_type": "markdown",
   "id": "cdabb479",
   "metadata": {},
   "source": [
    "### PostgreSQL 生成"
   ]
  },
  {
   "cell_type": "code",
   "execution_count": null,
   "id": "31270851",
   "metadata": {},
   "outputs": [],
   "source": [
    "sql_prompt_pg = \"\"\"\n",
    "postgres_grammar を呼び出して、PostgreSQL 用のクエリを生成し、顧客ごとに最新の 5 件の注文を取得します。\n",
    "取得するカラムは customer_id、order_id、order_date、および total_amount です。\n",
    "ただし、total_amount が 500 を超え、order_date が 『2025-01-01』 以降である条件を満たすレコードのみを取得します。\n",
    "\"\"\"\n",
    "\n",
    "response_pg = client.responses.create(\n",
    "    model=\"gpt-5-mini\",\n",
    "    input=sql_prompt_pg,\n",
    "    text={\"format\": {\"type\": \"text\"}},\n",
    "    tools=[\n",
    "        {\n",
    "            \"type\": \"custom\",\n",
    "            \"name\": \"postgres_grammar\",\n",
    "            \"description\": \"Executes read-only PostgreSQL queries limited to SELECT statements with LIMIT and basic WHERE/ORDER BY. YOU MUST REASON HEAVILY ABOUT THE QUERY AND MAKE SURE IT OBEYS THE GRAMMAR.\",\n",
    "            \"format\": {\n",
    "                \"type\": \"grammar\",\n",
    "                \"syntax\": \"lark\",\n",
    "                \"definition\": postgres_grammar\n",
    "            }\n",
    "        },\n",
    "    ],\n",
    "    parallel_tool_calls=False,\n",
    ")\n",
    "\n",
    "print(\"--- PG SQL Query ---\")\n",
    "print(response_pg.output[1].input)\n"
   ]
  },
  {
   "cell_type": "markdown",
   "id": "426838e7",
   "metadata": {},
   "source": [
    "### MS SQL 生成"
   ]
  },
  {
   "cell_type": "code",
   "execution_count": null,
   "id": "c9672902",
   "metadata": {},
   "outputs": [],
   "source": [
    "sql_prompt_pg = \"\"\"\n",
    "mssql_grammar を呼び出して、Microsoft SQL Server 用のクエリを生成し、顧客ごとに最新の 5 件の注文を取得します。\n",
    "取得するカラムは customer_id、order_id、order_date、および total_amount です。\n",
    "ただし、total_amount が 500 を超え、order_date が 『2025-01-01』 以降である条件を満たすレコードのみを取得します。\n",
    "\"\"\"\n",
    "\n",
    "response_pg = client.responses.create(\n",
    "    model=\"gpt-5-mini\",\n",
    "    input=sql_prompt_pg,\n",
    "    text={\"format\": {\"type\": \"text\"}},\n",
    "    tools=[\n",
    "        {\n",
    "            \"type\": \"custom\",\n",
    "            \"name\": \"mssql_grammar\",\n",
    "            \"description\": \"Executes read-only Microsoft SQL Server queries limited to SELECT statements with LIMIT and basic WHERE/ORDER BY. YOU MUST REASON HEAVILY ABOUT THE QUERY AND MAKE SURE IT OBEYS THE GRAMMAR.\",\n",
    "            \"format\": {\n",
    "                \"type\": \"grammar\",\n",
    "                \"syntax\": \"lark\",\n",
    "                \"definition\": mssql_grammar\n",
    "            }\n",
    "        },\n",
    "    ],\n",
    "    parallel_tool_calls=False,\n",
    ")\n",
    "\n",
    "print(\"--- MS SQL Query ---\")\n",
    "print(response_pg.output[1].input)\n"
   ]
  },
  {
   "cell_type": "markdown",
   "id": "3cb1b76d",
   "metadata": {},
   "source": [
    "### 例：許可された最小限のタグだけを含むシンプルな HTML 断片 を生成"
   ]
  },
  {
   "cell_type": "code",
   "execution_count": null,
   "id": "548b132c",
   "metadata": {},
   "outputs": [],
   "source": [
    "safe_html_grammar = textwrap.dedent(r\"\"\"\n",
    "    start: elements\n",
    "    elements: element*\n",
    "    element: tag_open content tag_close | self_closing_tag\n",
    "    tag_open: \"<\" tag_name \">\"\n",
    "    tag_close: \"</\" tag_name \">\"\n",
    "    self_closing_tag: \"<\" tag_name \"/>\"\n",
    "    tag_name: \"p\" | \"b\" | \"i\" | \"strong\" | \"em\" | \"br\"\n",
    "    content: (text | element)*\n",
    "    text: /[^<]+/\n",
    "\"\"\")\n"
   ]
  },
  {
   "cell_type": "code",
   "execution_count": null,
   "id": "5e00b637",
   "metadata": {},
   "outputs": [],
   "source": [
    "html_prompt = (\n",
    "        \"safe_html_grammar を呼び出して、シンプルな僕のホームページを生成します。\"\n",
    ")\n",
    "\n",
    "response_mssql = client.responses.create(\n",
    "    model=\"gpt-5-mini\",\n",
    "    input=html_prompt,\n",
    "    text={\"format\": {\"type\": \"text\"}},\n",
    "    tools=[\n",
    "        {\n",
    "            \"type\": \"custom\",\n",
    "            \"name\": \"safe_html_grammar\",\n",
    "            \"description\": \"Saves a safe HTML snippet.\",\n",
    "            \"format\": {\n",
    "                \"type\": \"grammar\",\n",
    "                \"syntax\": \"lark\",\n",
    "                \"definition\": safe_html_grammar\n",
    "            }\n",
    "        },\n",
    "    ],\n",
    "    parallel_tool_calls=False\n",
    ")\n",
    "\n",
    "print(\"--- HTML ---\")\n",
    "print(response_mssql.output[1].input)\n"
   ]
  },
  {
   "cell_type": "markdown",
   "id": "6f20ea60",
   "metadata": {},
   "source": [
    "LLGuidance Syntax – https://github.com/guidance-ai/llguidance/blob/main/docs/syntax.md\n",
    "\n",
    "### 制限\n",
    "文法の一部はサポートされていないものもあるので注意。ベストプラクティスとトラブルシューティングを参照。\n",
    "\n",
    "#### サポートされていない Lark 文法\n",
    "- Lookaround in regexes ((?=...), (?!...), etc.)\n",
    "- Lazy modifier (*?, +?, ??) in regexes.\n",
    "- Terminal priorities, templates, %declares, %import (except %import common).\n",
    "\n",
    "https://cookbook.openai.com/examples/gpt-5/gpt-5_new_params_and_tools#35-best-practices\n"
   ]
  },
  {
   "cell_type": "markdown",
   "id": "46138181",
   "metadata": {},
   "source": [
    "### 2. 正規表現 CFG 構文"
   ]
  },
  {
   "cell_type": "code",
   "execution_count": null,
   "id": "4dc7ae97",
   "metadata": {},
   "outputs": [],
   "source": [
    "timestamp_grammar_definition = r\"^\\d{4}-(0[1-9]|1[0-2])-(0[1-9]|[12]\\d|3[01]) (?:[01]\\d|2[0-3]):[0-5]\\d$\"\n",
    "\n",
    "timestamp_prompt = (\n",
    "        \"timestamp_grammar を呼び出して、2025年8月7日午前10時のタイムスタンプを生成します。\"\n",
    ")\n",
    "\n",
    "response_mssql = client.responses.create(\n",
    "    model=\"gpt-5-mini\",\n",
    "    input=timestamp_prompt,\n",
    "    text={\"format\": {\"type\": \"text\"}},\n",
    "    tools=[\n",
    "        {\n",
    "            \"type\": \"custom\",\n",
    "            \"name\": \"timestamp_grammar\",\n",
    "            \"description\": \"Saves a timestamp in date + time in 24-hr format.\",\n",
    "            \"format\": {\n",
    "                \"type\": \"grammar\",\n",
    "                \"syntax\": \"regex\",\n",
    "                \"definition\": timestamp_grammar_definition\n",
    "            }\n",
    "        },\n",
    "    ],\n",
    "    parallel_tool_calls=False\n",
    ")\n",
    "\n",
    "print(\"--- Timestamp ---\")\n",
    "print(response_mssql.output[1].input)\n"
   ]
  },
  {
   "cell_type": "markdown",
   "id": "5df5eadc",
   "metadata": {},
   "source": [
    "### 制限\n",
    "正規表現は Rust の正規表現ライブラリ（crate）の構文を使用し、Python の re モジュールは使用しません。正規表現の以下の機能はサポートされていません:\n",
    "\n",
    "- Look around\n",
    "- Lazy 量指定子 (*?, +?, ??)"
   ]
  },
  {
   "cell_type": "markdown",
   "id": "c1dc9c43",
   "metadata": {},
   "source": [
    "## 5. Minimal Reasoning\n",
    "GPT-5 を推論トークンをほとんどまたは全く使用せずに実行することで、レイテンシを最小限に抑え、最初のトークン生成時間を短縮します。説明を必要としない、決定論的で軽量なタスク（抽出、フォーマット、短い書き換え、単純な分類など）に最適です。指定がない場合、effort はデフォルトで medium になります。\n"
   ]
  },
  {
   "cell_type": "code",
   "execution_count": null,
   "id": "6c7f2332",
   "metadata": {},
   "outputs": [],
   "source": [
    "prompt = \"レビューの感情を「ポジティブ」「ニュートラル」「ネガティブ」の3つに分類してください。1つの単語のみを返してください。\" \n",
    "\n",
    "response = client.responses.create(\n",
    "    model=\"gpt-5\",\n",
    "    input= [{ 'role': 'developer', 'content': prompt }, \n",
    "            { 'role': 'user', 'content': 'そのレストランの料理は本当に美味しかったです！みんなにオススメします。' }],\n",
    "    reasoning = {\n",
    "        \"effort\": \"minimal\"\n",
    "    },\n",
    ")\n",
    "\n",
    "response.output[1].content[0].text\n"
   ]
  },
  {
   "cell_type": "code",
   "execution_count": null,
   "id": "2234d06f",
   "metadata": {},
   "outputs": [],
   "source": [
    "response.usage"
   ]
  },
  {
   "cell_type": "markdown",
   "id": "8bc0dbfb",
   "metadata": {},
   "source": [
    "## 6. Preambles（序文）\n",
    "Preambles は、GPT- 5がツールや関数を呼び出す前に生成する、ユーザーに見える短い説明です。その目的や計画（例：「このツールを呼び出す理由」）を説明します。Preambles は、思考の連鎖の後に表示され、実際のツール呼び出しの前に配置されます。これにより、モデルの推論プロセスが透明化し、デバッグのしやすさ、ユーザーの信頼性、および細かな制御可能性が向上します。"
   ]
  },
  {
   "cell_type": "code",
   "execution_count": null,
   "id": "92c38521",
   "metadata": {},
   "outputs": [],
   "source": [
    "prompt = \"\"\"\n",
    "<tool_preambles>\n",
    "- Always begin by rephrasing the user's goal in a friendly, clear, and concise manner, before calling any tools.\n",
    "- Then, immediately outline a structured plan detailing each logical step you’ll follow. - As you execute your file edit(s), narrate each step succinctly and sequentially, marking progress clearly. \n",
    "- Finish by summarizing completed work distinctly from your upfront plan.\n",
    "</tool_preambles>\n",
    "\"\"\"\n",
    "\n",
    "response = client.responses.create(\n",
    "    model=\"gpt-5-mini\",\n",
    "    input= [{ 'role': 'developer', 'content': prompt }, \n",
    "        { 'role': 'user', 'content': \"code_exec ツールを使用して、strawberry の 'r' の文字数に等しい半径を持つ円の面積を計算してください。\" }],\n",
    "    text={\"format\": {\"type\": \"text\"}},\n",
    "    tools=[\n",
    "        {\n",
    "            \"type\": \"custom\",\n",
    "            \"name\": \"code_exec\",\n",
    "            \"description\": \"Executes arbitrary python code\",\n",
    "        }\n",
    "    ]\n",
    ")\n",
    "print(response.output)"
   ]
  },
  {
   "cell_type": "code",
   "execution_count": null,
   "id": "64a5ffed",
   "metadata": {},
   "outputs": [],
   "source": [
    "# レスポンスから構造化されたデータを取得\n",
    "def parse_response_structure(response_output):\n",
    "    result = {\n",
    "        \"reasoning\": [],\n",
    "        \"messages\": [],\n",
    "        \"tool_calls\": []\n",
    "    }\n",
    "    \n",
    "    for item in response_output:\n",
    "        if hasattr(item, 'type'):\n",
    "            if item.type == 'reasoning':\n",
    "                result[\"reasoning\"].append({\n",
    "                    \"id\": item.id,\n",
    "                    \"summary\": item.summary,\n",
    "                    \"status\": item.status\n",
    "                })\n",
    "            \n",
    "            elif item.type == 'message':\n",
    "                message_data = {\n",
    "                    \"id\": item.id,\n",
    "                    \"role\": item.role,\n",
    "                    \"status\": item.status,\n",
    "                    \"content\": []\n",
    "                }\n",
    "                \n",
    "                if hasattr(item, 'content') and item.content:\n",
    "                    for content in item.content:\n",
    "                        if hasattr(content, 'text'):\n",
    "                            message_data[\"content\"].append({\n",
    "                                \"type\": content.type,\n",
    "                                \"text\": content.text\n",
    "                            })\n",
    "                \n",
    "                result[\"messages\"].append(message_data)\n",
    "            \n",
    "            elif item.type == 'custom_tool_call':\n",
    "                result[\"tool_calls\"].append({\n",
    "                    \"id\": item.id,\n",
    "                    \"call_id\": item.call_id,\n",
    "                    \"name\": item.name,\n",
    "                    \"input\": item.input,\n",
    "                    \"status\": item.status\n",
    "                })\n",
    "    \n",
    "    return result\n",
    "\n",
    "# 使用例\n",
    "structured_data = parse_response_structure(response.output)\n",
    "\n",
    "# きれいに表示\n",
    "import json\n",
    "print(\"=== 構造化されたレスポンス ===\")\n",
    "print(json.dumps(structured_data, indent=2, ensure_ascii=False))"
   ]
  }
 ],
 "metadata": {
  "kernelspec": {
   "display_name": "autogen061",
   "language": "python",
   "name": "python3"
  },
  "language_info": {
   "codemirror_mode": {
    "name": "ipython",
    "version": 3
   },
   "file_extension": ".py",
   "mimetype": "text/x-python",
   "name": "python",
   "nbconvert_exporter": "python",
   "pygments_lexer": "ipython3",
   "version": "3.11.13"
  }
 },
 "nbformat": 4,
 "nbformat_minor": 5
}
